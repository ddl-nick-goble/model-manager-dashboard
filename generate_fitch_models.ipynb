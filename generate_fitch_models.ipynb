{
 "cells": [
  {
   "cell_type": "code",
   "execution_count": 2,
   "id": "0152a890-0dbf-4894-b0b5-6b2b18c94c15",
   "metadata": {},
   "outputs": [
    {
     "name": "stdout",
     "output_type": "stream",
     "text": [
      "🚀 Starting Model Training...\n"
     ]
    },
    {
     "name": "stderr",
     "output_type": "stream",
     "text": [
      "\u001b[31m2025/09/11 20:13:42 WARNING mlflow.models.model: Model logged without a signature and input example. Please set `input_example` parameter when logging the model to auto infer the model signature.\u001b[0m\n",
      "Successfully registered model 'HelpBot'.\n",
      "Created version '1' of model 'HelpBot'.\n"
     ]
    },
    {
     "name": "stdout",
     "output_type": "stream",
     "text": [
      "✅ HelpBot trained successfully\n"
     ]
    },
    {
     "name": "stderr",
     "output_type": "stream",
     "text": [
      "\u001b[31m2025/09/11 20:13:45 WARNING mlflow.models.model: Model logged without a signature and input example. Please set `input_example` parameter when logging the model to auto infer the model signature.\u001b[0m\n",
      "Successfully registered model 'PressFinder'.\n",
      "Created version '1' of model 'PressFinder'.\n"
     ]
    },
    {
     "name": "stdout",
     "output_type": "stream",
     "text": [
      "✅ PressFinder trained successfully\n"
     ]
    },
    {
     "name": "stderr",
     "output_type": "stream",
     "text": [
      "\u001b[31m2025/09/11 20:13:47 WARNING mlflow.models.model: Model logged without a signature and input example. Please set `input_example` parameter when logging the model to auto infer the model signature.\u001b[0m\n",
      "Successfully registered model 'VoiceOverPro'.\n",
      "Created version '1' of model 'VoiceOverPro'.\n"
     ]
    },
    {
     "name": "stdout",
     "output_type": "stream",
     "text": [
      "✅ VoiceOverPro trained successfully\n"
     ]
    },
    {
     "name": "stderr",
     "output_type": "stream",
     "text": [
      "\u001b[31m2025/09/11 20:13:50 WARNING mlflow.models.model: Model logged without a signature and input example. Please set `input_example` parameter when logging the model to auto infer the model signature.\u001b[0m\n",
      "Successfully registered model 'FINREP Extractor'.\n",
      "Created version '1' of model 'FINREP Extractor'.\n"
     ]
    },
    {
     "name": "stdout",
     "output_type": "stream",
     "text": [
      "✅ FINREP Extractor trained successfully\n"
     ]
    },
    {
     "name": "stderr",
     "output_type": "stream",
     "text": [
      "\u001b[31m2025/09/11 20:13:53 WARNING mlflow.models.model: Model logged without a signature and input example. Please set `input_example` parameter when logging the model to auto infer the model signature.\u001b[0m\n",
      "Successfully registered model 'Fitch Portfolio Optimizer'.\n",
      "Created version '1' of model 'Fitch Portfolio Optimizer'.\n"
     ]
    },
    {
     "name": "stdout",
     "output_type": "stream",
     "text": [
      "✅ Fitch Portfolio Optimizer trained successfully\n"
     ]
    },
    {
     "name": "stderr",
     "output_type": "stream",
     "text": [
      "\u001b[31m2025/09/11 20:13:55 WARNING mlflow.models.model: Model logged without a signature and input example. Please set `input_example` parameter when logging the model to auto infer the model signature.\u001b[0m\n",
      "Successfully registered model 'EntityTagger Pro'.\n",
      "Created version '1' of model 'EntityTagger Pro'.\n"
     ]
    },
    {
     "name": "stdout",
     "output_type": "stream",
     "text": [
      "✅ EntityTagger Pro trained successfully\n"
     ]
    },
    {
     "name": "stderr",
     "output_type": "stream",
     "text": [
      "\u001b[31m2025/09/11 20:13:58 WARNING mlflow.models.model: Model logged without a signature and input example. Please set `input_example` parameter when logging the model to auto infer the model signature.\u001b[0m\n"
     ]
    },
    {
     "name": "stdout",
     "output_type": "stream",
     "text": [
      "✅ ResumeRanker Pro trained successfully\n",
      "\n",
      "✨ Training Complete!\n",
      "📈 MLflow UI: http://localhost:5000\n",
      "📄 Summary: /tmp/model_summary_20250911_201358.json\n",
      "🔍 Total models: 7\n"
     ]
    },
    {
     "name": "stderr",
     "output_type": "stream",
     "text": [
      "Successfully registered model 'ResumeRanker Pro'.\n",
      "Created version '1' of model 'ResumeRanker Pro'.\n"
     ]
    }
   ],
   "source": [
    "import pandas as pd\n",
    "import numpy as np\n",
    "from datetime import datetime\n",
    "import mlflow\n",
    "import mlflow.sklearn\n",
    "from sklearn.linear_model import LinearRegression\n",
    "from sklearn.model_selection import train_test_split\n",
    "import os\n",
    "import hashlib\n",
    "import base64\n",
    "import json\n",
    "\n",
    "def domino_short_id(length=8):\n",
    "    user = os.environ.get(\"DOMINO_USER_NAME\", \"demo_user\")\n",
    "    project = os.environ.get(\"DOMINO_PROJECT_ID\", \"demo_project\")\n",
    "    digest = hashlib.sha256(f\"{user}/{project}\".encode()).digest()\n",
    "    encoded = base64.urlsafe_b64encode(digest).decode(\"utf-8\").rstrip(\"=\")\n",
    "    return f\"{user}_{encoded[:length]}\"\n",
    "\n",
    "def generate_data(n=200):\n",
    "    \"\"\"Generate fake data for model training\"\"\"\n",
    "    np.random.seed(42)\n",
    "    X = pd.DataFrame({\n",
    "        'feature_1': np.random.randn(n),\n",
    "        'feature_2': np.random.randn(n),\n",
    "        'feature_3': np.random.randn(n),\n",
    "        'feature_4': np.random.randn(n)\n",
    "    })\n",
    "    y = X.sum(axis=1) + np.random.randn(n) * 0.1\n",
    "    return X, y\n",
    "\n",
    "# Define simplified models\n",
    "MODELS = [\n",
    "    {\"name\": \"HelpBot\", \"long_name\": \"Internal Helpdesk Chatbot\"},\n",
    "    {\"name\": \"PressFinder\", \"long_name\": \"Customer Press Release Discovery & Summary Tool\"},\n",
    "    {\"name\": \"VoiceOverPro\", \"long_name\": \"Internal Video Voice-Over Tool\"},\n",
    "    {\"name\": \"FINREP Extractor\", \"long_name\": \"Internal Tool: Data Extractor from Financial Reports\"},\n",
    "    {\"name\": \"Fitch Portfolio Optimizer\", \"long_name\": \"Portfolio Optimization Tool for Subscribers\"},\n",
    "    {\"name\": \"EntityTagger Pro\", \"long_name\": \"Third-Party Press Release Tagging Tool\"},\n",
    "    {\"name\": \"ResumeRanker Pro\", \"long_name\": \"Recruitment Selection Support Tool\"}\n",
    "]\n",
    "\n",
    "def train_model(model_info):\n",
    "    \"\"\"Train and log a model\"\"\"\n",
    "    # Use local file-based tracking\n",
    "    mlflow.set_tracking_uri(\"file:///tmp/mlflow\")\n",
    "    \n",
    "    try:\n",
    "        experiment_name = f\"Model_Dashboard_{domino_short_id()}\"\n",
    "        experiment = mlflow.get_experiment_by_name(experiment_name)\n",
    "        if experiment is None:\n",
    "            mlflow.create_experiment(experiment_name)\n",
    "        mlflow.set_experiment(experiment_name)\n",
    "    except Exception:\n",
    "        # Fallback to default experiment\n",
    "        mlflow.set_experiment(\"Default\")\n",
    "    \n",
    "    with mlflow.start_run(run_name=f\"{model_info['name']}_training\") as run:\n",
    "        X, y = generate_data()\n",
    "        X_train, X_test, y_train, y_test = train_test_split(X, y, test_size=0.2, random_state=42)\n",
    "        \n",
    "        model = LinearRegression()\n",
    "        model.fit(X_train, y_train)\n",
    "        y_pred = model.predict(X_test)\n",
    "        \n",
    "        # Log parameters\n",
    "        mlflow.log_params({\n",
    "            \"model_name\": model_info[\"name\"],\n",
    "            \"data_points\": len(X_train),\n",
    "            \"features\": list(X.columns)\n",
    "        })\n",
    "        \n",
    "        # Log metrics\n",
    "        rmse = np.sqrt(((y_test - y_pred) ** 2).mean())\n",
    "        r2 = 1 - ((y_test - y_pred) ** 2).sum() / ((y_test - y_test.mean()) ** 2).sum()\n",
    "        \n",
    "        mlflow.log_metrics({\n",
    "            \"rmse\": rmse,\n",
    "            \"r2_score\": r2\n",
    "        })\n",
    "        \n",
    "        # Log tags\n",
    "        mlflow.set_tags({\n",
    "            \"long-name\": model_info[\"long_name\"],\n",
    "            \"timestamp\": datetime.now().isoformat()\n",
    "        })\n",
    "        \n",
    "        # Log model\n",
    "        mlflow.sklearn.log_model(model, \"model\", registered_model_name=model_info[\"name\"])\n",
    "        \n",
    "        print(f\"✅ {model_info['name']} trained successfully\")\n",
    "        return run.info.run_id\n",
    "\n",
    "if __name__ == \"__main__\":\n",
    "    print(\"🚀 Starting Model Training...\")\n",
    "    \n",
    "    run_ids = []\n",
    "    for model_info in MODELS:\n",
    "        try:\n",
    "            run_id = train_model(model_info)\n",
    "            run_ids.append({\"name\": model_info[\"name\"], \"run_id\": run_id})\n",
    "        except Exception as e:\n",
    "            print(f\"❌ Error training {model_info['name']}: {str(e)}\")\n",
    "    \n",
    "    # Save summary\n",
    "    summary_path = f\"/tmp/model_summary_{datetime.now().strftime('%Y%m%d_%H%M%S')}.json\"\n",
    "    with open(summary_path, 'w') as f:\n",
    "        json.dump(run_ids, f, indent=2)\n",
    "    \n",
    "    print(f\"\\n✨ Training Complete!\")\n",
    "    print(f\"📈 MLflow UI: http://localhost:5000\")\n",
    "    print(f\"📄 Summary: {summary_path}\")\n",
    "    print(f\"🔍 Total models: {len(run_ids)}\")"
   ]
  },
  {
   "cell_type": "code",
   "execution_count": null,
   "id": "2d109bae-bdb8-4bef-9239-6d768b3d94c0",
   "metadata": {},
   "outputs": [],
   "source": []
  }
 ],
 "metadata": {
  "kernelspec": {
   "display_name": "Python 3 (ipykernel)",
   "language": "python",
   "name": "python3"
  },
  "language_info": {
   "codemirror_mode": {
    "name": "ipython",
    "version": 3
   },
   "file_extension": ".py",
   "mimetype": "text/x-python",
   "name": "python",
   "nbconvert_exporter": "python",
   "pygments_lexer": "ipython3",
   "version": "3.10.14"
  }
 },
 "nbformat": 4,
 "nbformat_minor": 5
}
